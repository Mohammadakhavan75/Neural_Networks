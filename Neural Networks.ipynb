{
  "cells": [
    {
      "attachments": {},
      "cell_type": "markdown",
      "metadata": {},
      "source": [
        "In this tutorial we are going to implement a Neural Network from scratch"
      ]
    },
    {
      "cell_type": "code",
      "execution_count": null,
      "metadata": {},
      "outputs": [],
      "source": [
        "import numpy as np"
      ]
    },
    {
      "attachments": {},
      "cell_type": "markdown",
      "metadata": {},
      "source": [
        "Here we are writing some of popular activation functions"
      ]
    },
    {
      "cell_type": "code",
      "execution_count": null,
      "metadata": {
        "id": "xg0x1X9uv4S9"
      },
      "outputs": [],
      "source": [
        "class activation:\n",
        "    def __init__(self):\n",
        "        pass\n",
        "\n",
        "    def binary(self, x):\n",
        "        if x>0:\n",
        "            return 1\n",
        "        if x<=0:\n",
        "            return 0\n",
        "\n",
        "    def sigmoid(self, x):\n",
        "        return 1/(1 + np.exp(-x))\n",
        "\n",
        "    def tanh(self, x):\n",
        "        return (np.exp(x) - np.exp(-x))/(np.exp(x) + np.exp(-x))\n",
        "\n",
        "    def relu(self, x):\n",
        "        return np.max([0, x])"
      ]
    },
    {
      "cell_type": "code",
      "execution_count": null,
      "metadata": {
        "id": "LEhQ62fdMsMo"
      },
      "outputs": [],
      "source": [
        "class neuron:\n",
        "    def __init__(self, input_shape):\n",
        "        self.b = np.random.uniform()\n",
        "        self.w = np.random.uniform(size=input_shape)\n",
        "\n",
        "    def get_weights(self):\n",
        "        return np.array([self.w, self.b])\n",
        "    \n",
        "    def calculate(self, feature):\n",
        "        out = 0\n",
        "        for i in range(len(feature)):\n",
        "            out += self.w[i] * feature[i]\n",
        "        out += self.b\n",
        "\n",
        "        return out"
      ]
    },
    {
      "cell_type": "code",
      "execution_count": null,
      "metadata": {
        "id": "DLl0PTQpR2uE"
      },
      "outputs": [],
      "source": [
        "class layer:\n",
        "    def __init__(self, n_neuron=1, input_shape=1):\n",
        "        self.n_neuron = n_neuron\n",
        "        self.input_shape = input_shape\n",
        "        self.neurons = []\n",
        "        for i in range(n_neuron):\n",
        "            self.neurons.append(neuron(input_shape))\n",
        "    \n",
        "    def get_weights(self):\n",
        "        self.weights = []\n",
        "        for i in range(self.n_neuron):\n",
        "            self.weights.append(self.neurons[i].get_weights())\n",
        "        \n",
        "        return self.weights\n",
        "\n",
        "    def calculate(self, features):\n",
        "        self.output = np.zeros(self.n_neuron)\n",
        "        for i in range(self.n_neuron):\n",
        "            self.output[i] = self.neurons[i].calculate(features)\n",
        "\n",
        "        return self.output\n"
      ]
    },
    {
      "cell_type": "code",
      "execution_count": null,
      "metadata": {
        "id": "sqfumzA_jXse"
      },
      "outputs": [],
      "source": [
        "class Network:\n",
        "    def __init__(self, n_layer=1, input_shape=1):\n",
        "        self.input_shape = input_shape\n",
        "        self.n_layer = n_layer\n",
        "        self.layers = []\n",
        "        self.layer_outputs=0\n",
        "\n",
        "    def add_layer(self, n_neuron):\n",
        "        self.layers.append(layer(n_neuron, self.input_shape))\n",
        "        self.input_shape = n_neuron\n",
        "\n",
        "    def save_layers(self):\n",
        "        return self.layers, self.layer_outputs\n",
        "\n",
        "    def calculate(self, features):\n",
        "        self.layer_outputs = []\n",
        "        for l in self.layers:\n",
        "            output = l.calculate(features)\n",
        "            self.layer_outputs.append(output)\n",
        "            features = output\n",
        "\n",
        "        return features"
      ]
    }
  ],
  "metadata": {
    "colab": {
      "provenance": []
    },
    "gpuClass": "standard",
    "kernelspec": {
      "display_name": "Python 3",
      "name": "python3"
    },
    "language_info": {
      "name": "python"
    }
  },
  "nbformat": 4,
  "nbformat_minor": 0
}
